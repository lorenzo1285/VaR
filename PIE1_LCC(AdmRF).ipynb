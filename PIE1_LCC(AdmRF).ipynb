{
 "cells": [
  {
   "attachments": {},
   "cell_type": "markdown",
   "metadata": {},
   "source": [
    "# Actividad 3. Proyecto Integrador Etapa 1 "
   ]
  },
  {
   "attachments": {},
   "cell_type": "markdown",
   "metadata": {},
   "source": [
    "\n",
    "Lorenzo Cárdenas Cárdenas\n",
    "\n",
    "Universidad del Valle de México\n",
    "\n",
    "Administración de Riesgos\n",
    "\n",
    "Docente: Mtra Clara Arechiga Alvarado\n",
    "\n",
    "26 de mar de 2023\n",
    "\n",
    "**Matricula:** 860131208 \n",
    "\n",
    "La correspondiente investigación está dirigida a nombre de Lorenzo Cárdenas  Cárdenas\n",
    "\n",
    "La correspondencia relacionada con esta investigación debe ser dirigida a nombre de Lorenzo Cárdenas Cárdenas,  Universidad del Valle de México, Calle Tezcatlipoca 2301, Los Rodríguez, 25204 Saltillo, Coah.  Correo: a860131208@my.uvm.edu.mx"
   ]
  },
  {
   "attachments": {},
   "cell_type": "markdown",
   "metadata": {},
   "source": [
    "# Importación de Paqueterias"
   ]
  },
  {
   "cell_type": "code",
   "execution_count": 1,
   "metadata": {},
   "outputs": [],
   "source": [
    "from scipy.stats import norm\n",
    "import pandas as pd\n",
    "import numpy as np\n",
    "import matplotlib.pyplot as plt\n",
    "import seaborn as sns\n",
    "import plotly.express as px\n",
    "import pandas_datareader as pdr\n",
    "import yfinance as yf"
   ]
  },
  {
   "attachments": {},
   "cell_type": "markdown",
   "metadata": {},
   "source": [
    "# Importar Datos"
   ]
  },
  {
   "cell_type": "code",
   "execution_count": 2,
   "metadata": {},
   "outputs": [
    {
     "name": "stdout",
     "output_type": "stream",
     "text": [
      "[*********************100%***********************]  1 of 1 completed\n"
     ]
    }
   ],
   "source": [
    "tickers = ['AAPL']\n",
    "weights = np.random.random(len(tickers))\n",
    "weights /= np.sum(weights)\n",
    "\n",
    "data = yf.download(tickers, \n",
    "                   period='1y',\n",
    "                   interval='1d',\n",
    "                   prepost=False)['Adj Close']"
   ]
  },
  {
   "cell_type": "code",
   "execution_count": 3,
   "metadata": {},
   "outputs": [
    {
     "data": {
      "text/plain": [
       "Date\n",
       "2022-04-01    173.260452\n",
       "2022-04-04    177.365585\n",
       "2022-04-05    174.005936\n",
       "2022-04-06    170.795364\n",
       "2022-04-07    171.103516\n",
       "                 ...    \n",
       "2023-03-27    158.279999\n",
       "2023-03-28    157.649994\n",
       "2023-03-29    160.770004\n",
       "2023-03-30    162.360001\n",
       "2023-03-31    164.899994\n",
       "Name: Adj Close, Length: 251, dtype: float64"
      ]
     },
     "execution_count": 3,
     "metadata": {},
     "output_type": "execute_result"
    }
   ],
   "source": [
    "data"
   ]
  },
  {
   "attachments": {},
   "cell_type": "markdown",
   "metadata": {},
   "source": [
    "Retornos "
   ]
  },
  {
   "cell_type": "code",
   "execution_count": 4,
   "metadata": {},
   "outputs": [
    {
     "data": {
      "text/plain": [
       "Date\n",
       "2022-04-04    0.023693\n",
       "2022-04-05   -0.018942\n",
       "2022-04-06   -0.018451\n",
       "2022-04-07    0.001804\n",
       "2022-04-08   -0.011909\n",
       "                ...   \n",
       "2023-03-27   -0.012293\n",
       "2023-03-28   -0.003980\n",
       "2023-03-29    0.019791\n",
       "2023-03-30    0.009890\n",
       "2023-03-31    0.015644\n",
       "Name: Adj Close, Length: 250, dtype: float64"
      ]
     },
     "execution_count": 4,
     "metadata": {},
     "output_type": "execute_result"
    }
   ],
   "source": [
    "returns = data.pct_change().dropna()\n",
    "returns"
   ]
  },
  {
   "attachments": {},
   "cell_type": "markdown",
   "metadata": {},
   "source": [
    "## Determina las observaciones de mínimo y máximo valor en la serie de tiempo"
   ]
  },
  {
   "cell_type": "code",
   "execution_count": 5,
   "metadata": {},
   "outputs": [],
   "source": [
    "num_data = len(returns)\n",
    "minima = returns.min()\n",
    "maxima = returns.max()    \n",
    "rango = maxima - minima"
   ]
  },
  {
   "cell_type": "code",
   "execution_count": 6,
   "metadata": {},
   "outputs": [
    {
     "name": "stdout",
     "output_type": "stream",
     "text": [
      "Minima:  -0.05867957400682189 \n",
      "Maxima:  0.08897456365827372 \n",
      "Rango:  0.1476541376650956 \n",
      "Numero de datos:  250\n"
     ]
    }
   ],
   "source": [
    "print('Minima: ', minima\n",
    "      ,'\\nMaxima: ', maxima\n",
    "      ,'\\nRango: ', rango\n",
    "      ,'\\nNumero de datos: ', num_data)\n"
   ]
  },
  {
   "attachments": {},
   "cell_type": "markdown",
   "metadata": {},
   "source": [
    "## Elige un número de subintervalos de igual magnitud que cubra desde el mínimo hasta el máximo valor. Estos son los rangos o clases"
   ]
  },
  {
   "cell_type": "code",
   "execution_count": 7,
   "metadata": {},
   "outputs": [
    {
     "name": "stdout",
     "output_type": "stream",
     "text": [
      "Amplitud:  0.018457 \n",
      "Numero de intervalos:  8\n"
     ]
    }
   ],
   "source": [
    "k = 1 + 3.322 * np.log10(num_data)\n",
    "k = int(k)\n",
    "amplitud = rango / k\n",
    "print('Amplitud: ', amplitud.round(6)\n",
    "      ,'\\nNumero de intervalos: ', k)"
   ]
  },
  {
   "attachments": {},
   "cell_type": "markdown",
   "metadata": {},
   "source": [
    "## Cuenta el número de observaciones que pertenecen a cada rango o intervalo. Ésta es la frecuencia por clase"
   ]
  },
  {
   "cell_type": "code",
   "execution_count": 8,
   "metadata": {},
   "outputs": [
    {
     "data": {
      "text/plain": [
       "Date\n",
       "2022-04-04       (0.0151, 0.0336]\n",
       "2022-04-05    (-0.0218, -0.00331]\n",
       "2022-04-06    (-0.0218, -0.00331]\n",
       "2022-04-07     (-0.00331, 0.0151]\n",
       "2022-04-08    (-0.0218, -0.00331]\n",
       "                     ...         \n",
       "2023-03-27    (-0.0218, -0.00331]\n",
       "2023-03-28    (-0.0218, -0.00331]\n",
       "2023-03-29       (0.0151, 0.0336]\n",
       "2023-03-30     (-0.00331, 0.0151]\n",
       "2023-03-31       (0.0151, 0.0336]\n",
       "Name: Adj Close, Length: 250, dtype: category\n",
       "Categories (8, interval[float64, right]): [(-0.0587, -0.0402] < (-0.0402, -0.0218] < (-0.0218, -0.00331] < (-0.00331, 0.0151] < (0.0151, 0.0336] < (0.0336, 0.0521] < (0.0521, 0.0705] < (0.0705, 0.089]]"
      ]
     },
     "execution_count": 8,
     "metadata": {},
     "output_type": "execute_result"
    }
   ],
   "source": [
    "grupos = minima + np.arange(k+1) * amplitud\n",
    "grupos = pd.cut(returns, bins=grupos)\n",
    "grupos"
   ]
  },
  {
   "cell_type": "code",
   "execution_count": 9,
   "metadata": {},
   "outputs": [
    {
     "data": {
      "text/html": [
       "<div>\n",
       "<style scoped>\n",
       "    .dataframe tbody tr th:only-of-type {\n",
       "        vertical-align: middle;\n",
       "    }\n",
       "\n",
       "    .dataframe tbody tr th {\n",
       "        vertical-align: top;\n",
       "    }\n",
       "\n",
       "    .dataframe thead th {\n",
       "        text-align: right;\n",
       "    }\n",
       "</style>\n",
       "<table border=\"1\" class=\"dataframe\">\n",
       "  <thead>\n",
       "    <tr style=\"text-align: right;\">\n",
       "      <th></th>\n",
       "      <th>Frecuencia</th>\n",
       "    </tr>\n",
       "  </thead>\n",
       "  <tbody>\n",
       "    <tr>\n",
       "      <th>(-0.0587, -0.0402]</th>\n",
       "      <td>6</td>\n",
       "    </tr>\n",
       "    <tr>\n",
       "      <th>(-0.0402, -0.0218]</th>\n",
       "      <td>28</td>\n",
       "    </tr>\n",
       "    <tr>\n",
       "      <th>(-0.0218, -0.00331]</th>\n",
       "      <td>70</td>\n",
       "    </tr>\n",
       "    <tr>\n",
       "      <th>(-0.00331, 0.0151]</th>\n",
       "      <td>88</td>\n",
       "    </tr>\n",
       "    <tr>\n",
       "      <th>(0.0151, 0.0336]</th>\n",
       "      <td>43</td>\n",
       "    </tr>\n",
       "    <tr>\n",
       "      <th>(0.0336, 0.0521]</th>\n",
       "      <td>12</td>\n",
       "    </tr>\n",
       "    <tr>\n",
       "      <th>(0.0521, 0.0705]</th>\n",
       "      <td>0</td>\n",
       "    </tr>\n",
       "    <tr>\n",
       "      <th>(0.0705, 0.089]</th>\n",
       "      <td>2</td>\n",
       "    </tr>\n",
       "  </tbody>\n",
       "</table>\n",
       "</div>"
      ],
      "text/plain": [
       "                     Frecuencia\n",
       "(-0.0587, -0.0402]            6\n",
       "(-0.0402, -0.0218]           28\n",
       "(-0.0218, -0.00331]          70\n",
       "(-0.00331, 0.0151]           88\n",
       "(0.0151, 0.0336]             43\n",
       "(0.0336, 0.0521]             12\n",
       "(0.0521, 0.0705]              0\n",
       "(0.0705, 0.089]               2"
      ]
     },
     "execution_count": 9,
     "metadata": {},
     "output_type": "execute_result"
    }
   ],
   "source": [
    "frecuencia = grupos.value_counts(sort=False)\n",
    "frecuencia = frecuencia.to_frame()\n",
    "frecuencia.columns = ['Frecuencia']\n",
    "frecuencia\n"
   ]
  },
  {
   "attachments": {},
   "cell_type": "markdown",
   "metadata": {},
   "source": [
    "## Determina la frecuencia relativa mediante la división entre frecuencias por clase y el número de observaciones. Es decir, la frecuencia relativa es una fracción de las observaciones que pertenecen a cada clase"
   ]
  },
  {
   "cell_type": "code",
   "execution_count": 10,
   "metadata": {},
   "outputs": [
    {
     "data": {
      "text/html": [
       "<div>\n",
       "<style scoped>\n",
       "    .dataframe tbody tr th:only-of-type {\n",
       "        vertical-align: middle;\n",
       "    }\n",
       "\n",
       "    .dataframe tbody tr th {\n",
       "        vertical-align: top;\n",
       "    }\n",
       "\n",
       "    .dataframe thead th {\n",
       "        text-align: right;\n",
       "    }\n",
       "</style>\n",
       "<table border=\"1\" class=\"dataframe\">\n",
       "  <thead>\n",
       "    <tr style=\"text-align: right;\">\n",
       "      <th></th>\n",
       "      <th>Frecuencia</th>\n",
       "      <th>Frecuencia relativa</th>\n",
       "    </tr>\n",
       "  </thead>\n",
       "  <tbody>\n",
       "    <tr>\n",
       "      <th>(-0.0587, -0.0402]</th>\n",
       "      <td>6</td>\n",
       "      <td>0.024</td>\n",
       "    </tr>\n",
       "    <tr>\n",
       "      <th>(-0.0402, -0.0218]</th>\n",
       "      <td>28</td>\n",
       "      <td>0.112</td>\n",
       "    </tr>\n",
       "    <tr>\n",
       "      <th>(-0.0218, -0.00331]</th>\n",
       "      <td>70</td>\n",
       "      <td>0.280</td>\n",
       "    </tr>\n",
       "    <tr>\n",
       "      <th>(-0.00331, 0.0151]</th>\n",
       "      <td>88</td>\n",
       "      <td>0.352</td>\n",
       "    </tr>\n",
       "    <tr>\n",
       "      <th>(0.0151, 0.0336]</th>\n",
       "      <td>43</td>\n",
       "      <td>0.172</td>\n",
       "    </tr>\n",
       "    <tr>\n",
       "      <th>(0.0336, 0.0521]</th>\n",
       "      <td>12</td>\n",
       "      <td>0.048</td>\n",
       "    </tr>\n",
       "    <tr>\n",
       "      <th>(0.0521, 0.0705]</th>\n",
       "      <td>0</td>\n",
       "      <td>0.000</td>\n",
       "    </tr>\n",
       "    <tr>\n",
       "      <th>(0.0705, 0.089]</th>\n",
       "      <td>2</td>\n",
       "      <td>0.008</td>\n",
       "    </tr>\n",
       "  </tbody>\n",
       "</table>\n",
       "</div>"
      ],
      "text/plain": [
       "                     Frecuencia  Frecuencia relativa\n",
       "(-0.0587, -0.0402]            6                0.024\n",
       "(-0.0402, -0.0218]           28                0.112\n",
       "(-0.0218, -0.00331]          70                0.280\n",
       "(-0.00331, 0.0151]           88                0.352\n",
       "(0.0151, 0.0336]             43                0.172\n",
       "(0.0336, 0.0521]             12                0.048\n",
       "(0.0521, 0.0705]              0                0.000\n",
       "(0.0705, 0.089]               2                0.008"
      ]
     },
     "execution_count": 10,
     "metadata": {},
     "output_type": "execute_result"
    }
   ],
   "source": [
    "frecuencia_rel = frecuencia / num_data\n",
    "frecuencia['Frecuencia relativa'] = frecuencia_rel\n",
    "frecuencia"
   ]
  },
  {
   "attachments": {},
   "cell_type": "markdown",
   "metadata": {},
   "source": [
    "grafico"
   ]
  },
  {
   "cell_type": "code",
   "execution_count": 11,
   "metadata": {},
   "outputs": [
    {
     "data": {
      "image/png": "[encoded data removed]",
      "text/plain": [
       "<Figure size 640x480 with 1 Axes>"
      ]
     },
     "metadata": {},
     "output_type": "display_data"
    }
   ],
   "source": [
    "plt.hist(returns, bins=8)\n",
    "plt.title('Histograma de retornos')\n",
    "plt.xlabel('Retornos')\n",
    "plt.ylabel('Frecuencia')\n",
    "plt.show()"
   ]
  },
  {
   "attachments": {},
   "cell_type": "markdown",
   "metadata": {},
   "source": [
    "# Referencias"
   ]
  },
  {
   "attachments": {},
   "cell_type": "markdown",
   "metadata": {},
   "source": [
    "Lara, A. (2008). Medición y control de riesgos financieros. [versión electrónica]. Recuperado de https://es.scribd.com/doc/48773171/Medicion-y-Control-de-Riesgos-Financieros-LIBRO-DE-ALFONSO-DE-LARA-HARO\n",
    "\n",
    "\n",
    "Allen, F., Myers, S., y Brealey, R. (2015). Principios de finanzas corporativas. Haga clic para ver más opciones [archivo PDF]. Recuperado de https://www.u-cursos.cl/usuario/b8c892c6139f1d5b9af125a5c6dff4a6/mi_blog/r/Principios_de_Finanzas_Corporativas_9Ed__Myers.pdf"
   ]
  }
 ],
 "metadata": {
  "kernelspec": {
   "display_name": "EDA_101",
   "language": "python",
   "name": "python3"
  },
  "language_info": {
   "codemirror_mode": {
    "name": "ipython",
    "version": 3
   },
   "file_extension": ".py",
   "mimetype": "text/x-python",
   "name": "python",
   "nbconvert_exporter": "python",
   "pygments_lexer": "ipython3",
   "version": "3.10.9"
  },
  "orig_nbformat": 4
 },
 "nbformat": 4,
 "nbformat_minor": 2
}
