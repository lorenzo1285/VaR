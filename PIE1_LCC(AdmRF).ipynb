{
 "cells": [
  {
   "attachments": {},
   "cell_type": "markdown",
   "metadata": {},
   "source": [
    "<h1 style=\"text-align: center;\">Actividad 3. Matriz de Análisis</h1> "
   ]
  },
  {
   "attachments": {},
   "cell_type": "markdown",
   "metadata": {},
   "source": [
    "\n",
    "<h4 style=\"text-align: center;\">Lorenzo Cárdenas Cárdenas</h4>\n",
    "<h4 style=\"text-align: center;\">Universidad del Valle de México</h4>\n",
    "<h4 style=\"text-align: center;\">Administración de Riesgos</h4>\n",
    "<h5 style=\"text-align: center;\">Docente: Mtra Clara Arechiga Alvarado</h5>\n",
    "<h4 style=\"text-align: center;\">26 de mar de 2023</h4>\n",
    "\n",
    "**Matricula:** 860131208 <br />\n",
    "La correspondiente investigación está dirigida a nombre de Lorenzo Cárdenas  Cárdenas<br /> \n",
    "La correspondencia relacionada con esta investigación debe ser dirigida a nombre de Lorenzo Cárdenas Cárdenas,  Universidad del Valle de México, Calle Tezcatlipoca 2301, Los Rodríguez, 25204 Saltillo, Coah.  Correo: a860131208@my.uvm.edu.mx"
   ]
  },
  {
   "attachments": {},
   "cell_type": "markdown",
   "metadata": {},
   "source": [
    "# Importación de Paqueterias"
   ]
  },
  {
   "cell_type": "code",
   "execution_count": 79,
   "metadata": {},
   "outputs": [],
   "source": [
    "from scipy.stats import norm\n",
    "import pandas as pd\n",
    "import numpy as np\n",
    "import matplotlib.pyplot as plt\n",
    "import seaborn as sns\n",
    "import plotly.express as px\n",
    "import pandas_datareader as pdr\n",
    "import yfinance as yf"
   ]
  },
  {
   "attachments": {},
   "cell_type": "markdown",
   "metadata": {},
   "source": [
    "# Importar Datos"
   ]
  },
  {
   "cell_type": "code",
   "execution_count": 80,
   "metadata": {},
   "outputs": [
    {
     "name": "stdout",
     "output_type": "stream",
     "text": [
      "[*********************100%***********************]  1 of 1 completed\n"
     ]
    }
   ],
   "source": [
    "tickers = ['AAPL']\n",
    "weights = np.random.random(len(tickers))\n",
    "weights /= np.sum(weights)\n",
    "\n",
    "data = yf.download(tickers, \n",
    "                   period='1y',\n",
    "                   interval='1d',\n",
    "                   prepost=False)['Adj Close']"
   ]
  },
  {
   "cell_type": "code",
   "execution_count": 81,
   "metadata": {},
   "outputs": [
    {
     "data": {
      "text/plain": [
       "Date\n",
       "2022-03-25    173.667984\n",
       "2022-03-28    174.542679\n",
       "2022-03-29    177.882431\n",
       "2022-03-30    176.699615\n",
       "2022-03-31    173.558640\n",
       "                 ...    \n",
       "2023-03-20    157.399994\n",
       "2023-03-21    159.279999\n",
       "2023-03-22    157.830002\n",
       "2023-03-23    158.929993\n",
       "2023-03-24    160.250000\n",
       "Name: Adj Close, Length: 251, dtype: float64"
      ]
     },
     "execution_count": 81,
     "metadata": {},
     "output_type": "execute_result"
    }
   ],
   "source": [
    "data"
   ]
  },
  {
   "attachments": {},
   "cell_type": "markdown",
   "metadata": {},
   "source": [
    "Retornos "
   ]
  },
  {
   "cell_type": "code",
   "execution_count": 82,
   "metadata": {},
   "outputs": [
    {
     "data": {
      "text/plain": [
       "Date\n",
       "2022-03-28    0.005037\n",
       "2022-03-29    0.019134\n",
       "2022-03-30   -0.006649\n",
       "2022-03-31   -0.017776\n",
       "2022-04-01   -0.001718\n",
       "                ...   \n",
       "2023-03-20    0.015484\n",
       "2023-03-21    0.011944\n",
       "2023-03-22   -0.009103\n",
       "2023-03-23    0.006969\n",
       "2023-03-24    0.008306\n",
       "Name: Adj Close, Length: 250, dtype: float64"
      ]
     },
     "execution_count": 82,
     "metadata": {},
     "output_type": "execute_result"
    }
   ],
   "source": [
    "returns = data.pct_change().dropna()\n",
    "returns"
   ]
  },
  {
   "attachments": {},
   "cell_type": "markdown",
   "metadata": {},
   "source": [
    "## Determina las observaciones de mínimo y máximo valor en la serie de tiempo"
   ]
  },
  {
   "cell_type": "code",
   "execution_count": 83,
   "metadata": {},
   "outputs": [],
   "source": [
    "num_data = len(returns)\n",
    "minima = returns.min()\n",
    "maxima = returns.max()    \n",
    "rango = maxima - minima"
   ]
  },
  {
   "cell_type": "code",
   "execution_count": 84,
   "metadata": {},
   "outputs": [
    {
     "name": "stdout",
     "output_type": "stream",
     "text": [
      "Minima:  -0.05867957400682189 \n",
      "Maxima:  0.08897456365827372 \n",
      "Rango:  0.1476541376650956 \n",
      "Numero de datos:  250\n"
     ]
    }
   ],
   "source": [
    "print('Minima: ', minima\n",
    "      ,'\\nMaxima: ', maxima\n",
    "      ,'\\nRango: ', rango\n",
    "      ,'\\nNumero de datos: ', num_data)\n"
   ]
  },
  {
   "attachments": {},
   "cell_type": "markdown",
   "metadata": {},
   "source": [
    "## Elige un número de subintervalos de igual magnitud que cubra desde el mínimo hasta el máximo valor. Estos son los rangos o clases"
   ]
  },
  {
   "cell_type": "code",
   "execution_count": 85,
   "metadata": {},
   "outputs": [
    {
     "name": "stdout",
     "output_type": "stream",
     "text": [
      "Amplitud:  0.018457 \n",
      "Numero de intervalos:  8\n"
     ]
    }
   ],
   "source": [
    "k = 1 + 3.322 * np.log10(num_data)\n",
    "k = int(k)\n",
    "amplitud = rango / k\n",
    "\n",
    "print('Amplitud: ', amplitud.round(6)\n",
    "      ,'\\nNumero de intervalos: ', k)"
   ]
  },
  {
   "attachments": {},
   "cell_type": "markdown",
   "metadata": {},
   "source": [
    "## Cuenta el número de observaciones que pertenecen a cada rango o intervalo. Ésta es la frecuencia por clase"
   ]
  },
  {
   "cell_type": "code",
   "execution_count": 86,
   "metadata": {},
   "outputs": [
    {
     "data": {
      "text/plain": [
       "array([-0.05867957, -0.04022281, -0.02176604, -0.00330927,  0.01514749,\n",
       "        0.03360426,  0.05206103,  0.0705178 ,  0.08897456])"
      ]
     },
     "execution_count": 86,
     "metadata": {},
     "output_type": "execute_result"
    }
   ],
   "source": [
    "grupos = minima + np.arange(k+1) * amplitud\n",
    "grupos"
   ]
  },
  {
   "cell_type": "code",
   "execution_count": 87,
   "metadata": {},
   "outputs": [
    {
     "data": {
      "text/plain": [
       "Date\n",
       "2022-03-28     (-0.00331, 0.0151]\n",
       "2022-03-29       (0.0151, 0.0336]\n",
       "2022-03-30    (-0.0218, -0.00331]\n",
       "2022-03-31    (-0.0218, -0.00331]\n",
       "2022-04-01     (-0.00331, 0.0151]\n",
       "                     ...         \n",
       "2023-03-20       (0.0151, 0.0336]\n",
       "2023-03-21     (-0.00331, 0.0151]\n",
       "2023-03-22    (-0.0218, -0.00331]\n",
       "2023-03-23     (-0.00331, 0.0151]\n",
       "2023-03-24     (-0.00331, 0.0151]\n",
       "Name: Adj Close, Length: 250, dtype: category\n",
       "Categories (8, interval[float64, right]): [(-0.0587, -0.0402] < (-0.0402, -0.0218] < (-0.0218, -0.00331] < (-0.00331, 0.0151] < (0.0151, 0.0336] < (0.0336, 0.0521] < (0.0521, 0.0705] < (0.0705, 0.089]]"
      ]
     },
     "execution_count": 87,
     "metadata": {},
     "output_type": "execute_result"
    }
   ],
   "source": [
    "grupos = pd.cut(returns, bins=grupos)\n",
    "grupos"
   ]
  },
  {
   "cell_type": "code",
   "execution_count": 90,
   "metadata": {},
   "outputs": [
    {
     "data": {
      "text/html": [
       "<div>\n",
       "<style scoped>\n",
       "    .dataframe tbody tr th:only-of-type {\n",
       "        vertical-align: middle;\n",
       "    }\n",
       "\n",
       "    .dataframe tbody tr th {\n",
       "        vertical-align: top;\n",
       "    }\n",
       "\n",
       "    .dataframe thead th {\n",
       "        text-align: right;\n",
       "    }\n",
       "</style>\n",
       "<table border=\"1\" class=\"dataframe\">\n",
       "  <thead>\n",
       "    <tr style=\"text-align: right;\">\n",
       "      <th></th>\n",
       "      <th>Frecuencia</th>\n",
       "    </tr>\n",
       "  </thead>\n",
       "  <tbody>\n",
       "    <tr>\n",
       "      <th>(-0.0587, -0.0402]</th>\n",
       "      <td>6</td>\n",
       "    </tr>\n",
       "    <tr>\n",
       "      <th>(-0.0402, -0.0218]</th>\n",
       "      <td>28</td>\n",
       "    </tr>\n",
       "    <tr>\n",
       "      <th>(-0.0218, -0.00331]</th>\n",
       "      <td>70</td>\n",
       "    </tr>\n",
       "    <tr>\n",
       "      <th>(-0.00331, 0.0151]</th>\n",
       "      <td>89</td>\n",
       "    </tr>\n",
       "    <tr>\n",
       "      <th>(0.0151, 0.0336]</th>\n",
       "      <td>42</td>\n",
       "    </tr>\n",
       "    <tr>\n",
       "      <th>(0.0336, 0.0521]</th>\n",
       "      <td>12</td>\n",
       "    </tr>\n",
       "    <tr>\n",
       "      <th>(0.0521, 0.0705]</th>\n",
       "      <td>0</td>\n",
       "    </tr>\n",
       "    <tr>\n",
       "      <th>(0.0705, 0.089]</th>\n",
       "      <td>2</td>\n",
       "    </tr>\n",
       "  </tbody>\n",
       "</table>\n",
       "</div>"
      ],
      "text/plain": [
       "                     Frecuencia\n",
       "(-0.0587, -0.0402]            6\n",
       "(-0.0402, -0.0218]           28\n",
       "(-0.0218, -0.00331]          70\n",
       "(-0.00331, 0.0151]           89\n",
       "(0.0151, 0.0336]             42\n",
       "(0.0336, 0.0521]             12\n",
       "(0.0521, 0.0705]              0\n",
       "(0.0705, 0.089]               2"
      ]
     },
     "execution_count": 90,
     "metadata": {},
     "output_type": "execute_result"
    }
   ],
   "source": [
    "frecuencia = grupos.value_counts(sort=False)\n",
    "frecuencia = frecuencia.to_frame()\n",
    "frecuencia.columns = ['Frecuencia']\n",
    "frecuencia\n"
   ]
  },
  {
   "attachments": {},
   "cell_type": "markdown",
   "metadata": {},
   "source": [
    "## Determina la frecuencia relativa mediante la división entre frecuencias por clase y el número de observaciones. Es decir, la frecuencia relativa es una fracción de las observaciones que pertenecen a cada clase"
   ]
  },
  {
   "cell_type": "code",
   "execution_count": 91,
   "metadata": {},
   "outputs": [
    {
     "data": {
      "text/html": [
       "<div>\n",
       "<style scoped>\n",
       "    .dataframe tbody tr th:only-of-type {\n",
       "        vertical-align: middle;\n",
       "    }\n",
       "\n",
       "    .dataframe tbody tr th {\n",
       "        vertical-align: top;\n",
       "    }\n",
       "\n",
       "    .dataframe thead th {\n",
       "        text-align: right;\n",
       "    }\n",
       "</style>\n",
       "<table border=\"1\" class=\"dataframe\">\n",
       "  <thead>\n",
       "    <tr style=\"text-align: right;\">\n",
       "      <th></th>\n",
       "      <th>Frecuencia</th>\n",
       "      <th>Frecuencia relativa</th>\n",
       "    </tr>\n",
       "  </thead>\n",
       "  <tbody>\n",
       "    <tr>\n",
       "      <th>(-0.0587, -0.0402]</th>\n",
       "      <td>6</td>\n",
       "      <td>0.024</td>\n",
       "    </tr>\n",
       "    <tr>\n",
       "      <th>(-0.0402, -0.0218]</th>\n",
       "      <td>28</td>\n",
       "      <td>0.112</td>\n",
       "    </tr>\n",
       "    <tr>\n",
       "      <th>(-0.0218, -0.00331]</th>\n",
       "      <td>70</td>\n",
       "      <td>0.280</td>\n",
       "    </tr>\n",
       "    <tr>\n",
       "      <th>(-0.00331, 0.0151]</th>\n",
       "      <td>89</td>\n",
       "      <td>0.356</td>\n",
       "    </tr>\n",
       "    <tr>\n",
       "      <th>(0.0151, 0.0336]</th>\n",
       "      <td>42</td>\n",
       "      <td>0.168</td>\n",
       "    </tr>\n",
       "    <tr>\n",
       "      <th>(0.0336, 0.0521]</th>\n",
       "      <td>12</td>\n",
       "      <td>0.048</td>\n",
       "    </tr>\n",
       "    <tr>\n",
       "      <th>(0.0521, 0.0705]</th>\n",
       "      <td>0</td>\n",
       "      <td>0.000</td>\n",
       "    </tr>\n",
       "    <tr>\n",
       "      <th>(0.0705, 0.089]</th>\n",
       "      <td>2</td>\n",
       "      <td>0.008</td>\n",
       "    </tr>\n",
       "  </tbody>\n",
       "</table>\n",
       "</div>"
      ],
      "text/plain": [
       "                     Frecuencia  Frecuencia relativa\n",
       "(-0.0587, -0.0402]            6                0.024\n",
       "(-0.0402, -0.0218]           28                0.112\n",
       "(-0.0218, -0.00331]          70                0.280\n",
       "(-0.00331, 0.0151]           89                0.356\n",
       "(0.0151, 0.0336]             42                0.168\n",
       "(0.0336, 0.0521]             12                0.048\n",
       "(0.0521, 0.0705]              0                0.000\n",
       "(0.0705, 0.089]               2                0.008"
      ]
     },
     "execution_count": 91,
     "metadata": {},
     "output_type": "execute_result"
    }
   ],
   "source": [
    "frecuencia_rel = frecuencia / num_data\n",
    "frecuencia['Frecuencia relativa'] = frecuencia_rel\n",
    "frecuencia"
   ]
  },
  {
   "attachments": {},
   "cell_type": "markdown",
   "metadata": {},
   "source": [
    "grafico"
   ]
  },
  {
   "cell_type": "code",
   "execution_count": 92,
   "metadata": {},
   "outputs": [
    {
     "data": {
      "application/vnd.plotly.v1+json": {
       "config": {
        "plotlyServerURL": "https://plot.ly"
       },
       "data": [
        {
         "alignmentgroup": "True",
         "bingroup": "x",
         "hovertemplate": "x=%{x}<br>count=%{y}<extra></extra>",
         "legendgroup": "",
         "marker": {
          "color": "#636efa",
          "pattern": {
           "shape": ""
          }
         },
         "name": "",
         "nbinsx": 8,
         "offsetgroup": "",
         "orientation": "v",
         "showlegend": false,
         "type": "histogram",
         "x": [
          0.00503659226086528,
          0.019134301247094365,
          -0.006649423132498722,
          -0.01777579392938944,
          -0.0017181657764904212,
          0.023693512415370543,
          -0.018942033826885418,
          -0.018450755950812914,
          0.0018040343256995328,
          -0.011908835460735956,
          -0.025516024512856617,
          0.011523466533175153,
          0.016342559876267204,
          -0.02998830730517299,
          -0.0013308913535713396,
          0.014115089059778319,
          -0.001015436691882754,
          -0.004843580103721545,
          -0.02782129893916807,
          0.006737212650835378,
          -0.03732803153183295,
          -0.001466785703901019,
          0.04515535499930445,
          -0.036604749254132596,
          0.001966495091308751,
          0.00962259961019396,
          0.041008306197406474,
          -0.05571600479122352,
          0.004726984872434281,
          -0.03318915244894227,
          0.016111969874053944,
          -0.05184119024772749,
          -0.02689428198696775,
          0.031916514492536185,
          -0.010672363150645237,
          0.025422639881498954,
          -0.05641924711066759,
          -0.02464141324475011,
          0.0017472598064622868,
          0.04011922051450245,
          -0.01921598580817796,
          0.001140042148468856,
          0.023199439562139323,
          0.040756776004580164,
          -0.005346094274990554,
          -0.0008734392589988538,
          0.016811267640477023,
          -0.03855571841784633,
          0.005227763736837199,
          0.017585837935142123,
          -0.005043390599923092,
          -0.03595572620596443,
          -0.038628670172866975,
          -0.03828486231332928,
          0.006672657273478766,
          0.020111473699487847,
          -0.0396514568095746,
          0.011533180109177144,
          0.032760728604979805,
          -0.0038271547136008444,
          0.021573658962414033,
          0.024517273972338494,
          0,
          -0.029789575012162506,
          0.01302381792574514,
          -0.018027709463058428,
          0.016164311284275312,
          0.018930444348085995,
          0.009607292459396621,
          0.023999518645359874,
          0.004714556796363789,
          -0.01475794068739178,
          0.006833742148100619,
          -0.002536602713703595,
          0.02048244790570264,
          0.011450220901794816,
          -0.020643268478550247,
          0.026721883477908603,
          0.013509965990586403,
          0.01509412266926935,
          -0.008110742384689895,
          -0.00739824429724889,
          -0.008826304630730641,
          0.03423466619534632,
          0.0035717759892066603,
          0.03279299222732179,
          -0.006153363792025024,
          -0.009287477892211293,
          0.038247701700651504,
          -0.001926214079558286,
          -0.0013890219103992463,
          -0.002902997322980605,
          0.0003032334095998124,
          0.026194635955012258,
          -0.004431595186135007,
          0.021425596716582396,
          0.006333507695211349,
          -0.0009238907742439295,
          0.008784680707258019,
          -0.0022916868734189633,
          -0.015101844785828544,
          -0.023029339284004302,
          -0.002029055171172023,
          0.0017939075063926335,
          0.014922672907206058,
          -0.03769925867454493,
          -0.013690156377804685,
          -0.015305444924908373,
          -0.010635060646480343,
          0.004706827806610248,
          -0.013611079266378723,
          -0.00821518478958827,
          0.009254001845649285,
          -0.009617891209236396,
          0.018839762470120425,
          0.03850797758073621,
          -0.05867957400682189,
          0.009555407672982907,
          -0.01892993212726768,
          -0.010960134153319867,
          0.025082867888681637,
          0.01566555107723322,
          -0.020267672359166933,
          -0.006375211271420489,
          -0.015123836508469046,
          0.002260246205244787,
          0.0065663498303460965,
          -0.012651633248891625,
          -0.049119061203703684,
          -0.030039344027697812,
          0.030752556685706756,
          0.02562311591970423,
          0.002053250184925526,
          -0.0066255910067537505,
          -0.036718694904853466,
          0.00235561247235494,
          -0.010254959001748332,
          -0.0046050079488979545,
          0.03361307344251174,
          -0.03224014185739499,
          0.02912273715300251,
          0.009409435619817996,
          0.0007652121317962557,
          -0.0032670621105705955,
          0.027059116662976557,
          0.014802593626693117,
          0.019337663663868465,
          -0.019627161306367324,
          -0.030465336878932825,
          0.07555256360462237,
          -0.015410442553375536,
          -0.017542759803189534,
          -0.0373049355695505,
          -0.04240497023635814,
          -0.0019473775983680497,
          0.0039022441189144885,
          0.004175182536353628,
          -0.03319006149533299,
          0.08897456365827372,
          0.019268728127011414,
          -0.009485613297641748,
          0.011869383294394575,
          -0.008331101045729095,
          0.012971441219321367,
          0.0037817890098765794,
          -0.021680280037245092,
          0.014661140018347618,
          0.005926413763607474,
          -0.019593682865218565,
          -0.02626422358257896,
          -0.021148237616842258,
          0.04859383046247978,
          0.0018914976961761365,
          -0.0033713123759251395,
          -0.007983161478345768,
          -0.025369951976540905,
          -0.013784888625020697,
          0.012132744444250498,
          -0.0034349075222149805,
          0.01638997268982889,
          0.006782437097700322,
          -0.015535790149120876,
          -0.04685435641887625,
          -0.014578775296892332,
          -0.015909572215163093,
          -0.0005287599827979994,
          0.02380944405202845,
          -0.02377258719590114,
          -0.0027981139572388347,
          -0.013878350373759729,
          -0.030685225808309347,
          0.02832435997776317,
          0.002468880480197777,
          -0.037404769239074875,
          0.010314278622129303,
          -0.010604698830362858,
          0.03679417447115174,
          0.0040888601110185,
          0.004456404486017584,
          0.02111226190782345,
          -0.0005993087171427547,
          0.010119098552789474,
          0.008756354920472775,
          -0.005369977365783707,
          0.0004437354522925929,
          0.01922072317359458,
          0.023500519249589402,
          0.010063044155601109,
          -0.004700745372968496,
          0.01480334951960427,
          0.013684239579286217,
          -0.020078043055001715,
          0.009020919466503408,
          0.007900740676565654,
          0.03706266149802917,
          0.024399862520001925,
          -0.017928805457158914,
          0.019244672319954192,
          -0.017652712913862723,
          -0.0069115428539698875,
          0.0024561545319079503,
          0.01880677902118011,
          -0.004224953717818392,
          0.013903426404976438,
          -0.010429376798369527,
          -0.007546702305912589,
          -0.026679824600448265,
          0.0028960664530148783,
          0.0032905125399556034,
          -0.018005269695533066,
          0.008247504598905886,
          -0.003447772533457294,
          -0.014246021649447993,
          0.0041291453691869595,
          0.035090089703815774,
          0.01853938339660255,
          -0.014496494188358522,
          0.00837723590066819,
          -0.014914625839747453,
          -0.0138787196275717,
          0.013266001486216261,
          0.01408915464869298,
          0.0026214638237991306,
          0.018694035607962345,
          -0.00545400109224925,
          0.015483831590221708,
          0.011944122971497162,
          -0.009103446505241086,
          0.006969466083539766,
          0.008305589788276002
         ],
         "xaxis": "x",
         "yaxis": "y"
        }
       ],
       "layout": {
        "barmode": "relative",
        "legend": {
         "tracegroupgap": 0
        },
        "margin": {
         "t": 60
        },
        "template": {
         "data": {
          "bar": [
           {
            "error_x": {
             "color": "#2a3f5f"
            },
            "error_y": {
             "color": "#2a3f5f"
            },
            "marker": {
             "line": {
              "color": "#E5ECF6",
              "width": 0.5
             },
             "pattern": {
              "fillmode": "overlay",
              "size": 10,
              "solidity": 0.2
             }
            },
            "type": "bar"
           }
          ],
          "barpolar": [
           {
            "marker": {
             "line": {
              "color": "#E5ECF6",
              "width": 0.5
             },
             "pattern": {
              "fillmode": "overlay",
              "size": 10,
              "solidity": 0.2
             }
            },
            "type": "barpolar"
           }
          ],
          "carpet": [
           {
            "aaxis": {
             "endlinecolor": "#2a3f5f",
             "gridcolor": "white",
             "linecolor": "white",
             "minorgridcolor": "white",
             "startlinecolor": "#2a3f5f"
            },
            "baxis": {
             "endlinecolor": "#2a3f5f",
             "gridcolor": "white",
             "linecolor": "white",
             "minorgridcolor": "white",
             "startlinecolor": "#2a3f5f"
            },
            "type": "carpet"
           }
          ],
          "choropleth": [
           {
            "colorbar": {
             "outlinewidth": 0,
             "ticks": ""
            },
            "type": "choropleth"
           }
          ],
          "contour": [
           {
            "colorbar": {
             "outlinewidth": 0,
             "ticks": ""
            },
            "colorscale": [
             [
              0,
              "#0d0887"
             ],
             [
              0.1111111111111111,
              "#46039f"
             ],
             [
              0.2222222222222222,
              "#7201a8"
             ],
             [
              0.3333333333333333,
              "#9c179e"
             ],
             [
              0.4444444444444444,
              "#bd3786"
             ],
             [
              0.5555555555555556,
              "#d8576b"
             ],
             [
              0.6666666666666666,
              "#ed7953"
             ],
             [
              0.7777777777777778,
              "#fb9f3a"
             ],
             [
              0.8888888888888888,
              "#fdca26"
             ],
             [
              1,
              "#f0f921"
             ]
            ],
            "type": "contour"
           }
          ],
          "contourcarpet": [
           {
            "colorbar": {
             "outlinewidth": 0,
             "ticks": ""
            },
            "type": "contourcarpet"
           }
          ],
          "heatmap": [
           {
            "colorbar": {
             "outlinewidth": 0,
             "ticks": ""
            },
            "colorscale": [
             [
              0,
              "#0d0887"
             ],
             [
              0.1111111111111111,
              "#46039f"
             ],
             [
              0.2222222222222222,
              "#7201a8"
             ],
             [
              0.3333333333333333,
              "#9c179e"
             ],
             [
              0.4444444444444444,
              "#bd3786"
             ],
             [
              0.5555555555555556,
              "#d8576b"
             ],
             [
              0.6666666666666666,
              "#ed7953"
             ],
             [
              0.7777777777777778,
              "#fb9f3a"
             ],
             [
              0.8888888888888888,
              "#fdca26"
             ],
             [
              1,
              "#f0f921"
             ]
            ],
            "type": "heatmap"
           }
          ],
          "heatmapgl": [
           {
            "colorbar": {
             "outlinewidth": 0,
             "ticks": ""
            },
            "colorscale": [
             [
              0,
              "#0d0887"
             ],
             [
              0.1111111111111111,
              "#46039f"
             ],
             [
              0.2222222222222222,
              "#7201a8"
             ],
             [
              0.3333333333333333,
              "#9c179e"
             ],
             [
              0.4444444444444444,
              "#bd3786"
             ],
             [
              0.5555555555555556,
              "#d8576b"
             ],
             [
              0.6666666666666666,
              "#ed7953"
             ],
             [
              0.7777777777777778,
              "#fb9f3a"
             ],
             [
              0.8888888888888888,
              "#fdca26"
             ],
             [
              1,
              "#f0f921"
             ]
            ],
            "type": "heatmapgl"
           }
          ],
          "histogram": [
           {
            "marker": {
             "pattern": {
              "fillmode": "overlay",
              "size": 10,
              "solidity": 0.2
             }
            },
            "type": "histogram"
           }
          ],
          "histogram2d": [
           {
            "colorbar": {
             "outlinewidth": 0,
             "ticks": ""
            },
            "colorscale": [
             [
              0,
              "#0d0887"
             ],
             [
              0.1111111111111111,
              "#46039f"
             ],
             [
              0.2222222222222222,
              "#7201a8"
             ],
             [
              0.3333333333333333,
              "#9c179e"
             ],
             [
              0.4444444444444444,
              "#bd3786"
             ],
             [
              0.5555555555555556,
              "#d8576b"
             ],
             [
              0.6666666666666666,
              "#ed7953"
             ],
             [
              0.7777777777777778,
              "#fb9f3a"
             ],
             [
              0.8888888888888888,
              "#fdca26"
             ],
             [
              1,
              "#f0f921"
             ]
            ],
            "type": "histogram2d"
           }
          ],
          "histogram2dcontour": [
           {
            "colorbar": {
             "outlinewidth": 0,
             "ticks": ""
            },
            "colorscale": [
             [
              0,
              "#0d0887"
             ],
             [
              0.1111111111111111,
              "#46039f"
             ],
             [
              0.2222222222222222,
              "#7201a8"
             ],
             [
              0.3333333333333333,
              "#9c179e"
             ],
             [
              0.4444444444444444,
              "#bd3786"
             ],
             [
              0.5555555555555556,
              "#d8576b"
             ],
             [
              0.6666666666666666,
              "#ed7953"
             ],
             [
              0.7777777777777778,
              "#fb9f3a"
             ],
             [
              0.8888888888888888,
              "#fdca26"
             ],
             [
              1,
              "#f0f921"
             ]
            ],
            "type": "histogram2dcontour"
           }
          ],
          "mesh3d": [
           {
            "colorbar": {
             "outlinewidth": 0,
             "ticks": ""
            },
            "type": "mesh3d"
           }
          ],
          "parcoords": [
           {
            "line": {
             "colorbar": {
              "outlinewidth": 0,
              "ticks": ""
             }
            },
            "type": "parcoords"
           }
          ],
          "pie": [
           {
            "automargin": true,
            "type": "pie"
           }
          ],
          "scatter": [
           {
            "fillpattern": {
             "fillmode": "overlay",
             "size": 10,
             "solidity": 0.2
            },
            "type": "scatter"
           }
          ],
          "scatter3d": [
           {
            "line": {
             "colorbar": {
              "outlinewidth": 0,
              "ticks": ""
             }
            },
            "marker": {
             "colorbar": {
              "outlinewidth": 0,
              "ticks": ""
             }
            },
            "type": "scatter3d"
           }
          ],
          "scattercarpet": [
           {
            "marker": {
             "colorbar": {
              "outlinewidth": 0,
              "ticks": ""
             }
            },
            "type": "scattercarpet"
           }
          ],
          "scattergeo": [
           {
            "marker": {
             "colorbar": {
              "outlinewidth": 0,
              "ticks": ""
             }
            },
            "type": "scattergeo"
           }
          ],
          "scattergl": [
           {
            "marker": {
             "colorbar": {
              "outlinewidth": 0,
              "ticks": ""
             }
            },
            "type": "scattergl"
           }
          ],
          "scattermapbox": [
           {
            "marker": {
             "colorbar": {
              "outlinewidth": 0,
              "ticks": ""
             }
            },
            "type": "scattermapbox"
           }
          ],
          "scatterpolar": [
           {
            "marker": {
             "colorbar": {
              "outlinewidth": 0,
              "ticks": ""
             }
            },
            "type": "scatterpolar"
           }
          ],
          "scatterpolargl": [
           {
            "marker": {
             "colorbar": {
              "outlinewidth": 0,
              "ticks": ""
             }
            },
            "type": "scatterpolargl"
           }
          ],
          "scatterternary": [
           {
            "marker": {
             "colorbar": {
              "outlinewidth": 0,
              "ticks": ""
             }
            },
            "type": "scatterternary"
           }
          ],
          "surface": [
           {
            "colorbar": {
             "outlinewidth": 0,
             "ticks": ""
            },
            "colorscale": [
             [
              0,
              "#0d0887"
             ],
             [
              0.1111111111111111,
              "#46039f"
             ],
             [
              0.2222222222222222,
              "#7201a8"
             ],
             [
              0.3333333333333333,
              "#9c179e"
             ],
             [
              0.4444444444444444,
              "#bd3786"
             ],
             [
              0.5555555555555556,
              "#d8576b"
             ],
             [
              0.6666666666666666,
              "#ed7953"
             ],
             [
              0.7777777777777778,
              "#fb9f3a"
             ],
             [
              0.8888888888888888,
              "#fdca26"
             ],
             [
              1,
              "#f0f921"
             ]
            ],
            "type": "surface"
           }
          ],
          "table": [
           {
            "cells": {
             "fill": {
              "color": "#EBF0F8"
             },
             "line": {
              "color": "white"
             }
            },
            "header": {
             "fill": {
              "color": "#C8D4E3"
             },
             "line": {
              "color": "white"
             }
            },
            "type": "table"
           }
          ]
         },
         "layout": {
          "annotationdefaults": {
           "arrowcolor": "#2a3f5f",
           "arrowhead": 0,
           "arrowwidth": 1
          },
          "autotypenumbers": "strict",
          "coloraxis": {
           "colorbar": {
            "outlinewidth": 0,
            "ticks": ""
           }
          },
          "colorscale": {
           "diverging": [
            [
             0,
             "#8e0152"
            ],
            [
             0.1,
             "#c51b7d"
            ],
            [
             0.2,
             "#de77ae"
            ],
            [
             0.3,
             "#f1b6da"
            ],
            [
             0.4,
             "#fde0ef"
            ],
            [
             0.5,
             "#f7f7f7"
            ],
            [
             0.6,
             "#e6f5d0"
            ],
            [
             0.7,
             "#b8e186"
            ],
            [
             0.8,
             "#7fbc41"
            ],
            [
             0.9,
             "#4d9221"
            ],
            [
             1,
             "#276419"
            ]
           ],
           "sequential": [
            [
             0,
             "#0d0887"
            ],
            [
             0.1111111111111111,
             "#46039f"
            ],
            [
             0.2222222222222222,
             "#7201a8"
            ],
            [
             0.3333333333333333,
             "#9c179e"
            ],
            [
             0.4444444444444444,
             "#bd3786"
            ],
            [
             0.5555555555555556,
             "#d8576b"
            ],
            [
             0.6666666666666666,
             "#ed7953"
            ],
            [
             0.7777777777777778,
             "#fb9f3a"
            ],
            [
             0.8888888888888888,
             "#fdca26"
            ],
            [
             1,
             "#f0f921"
            ]
           ],
           "sequentialminus": [
            [
             0,
             "#0d0887"
            ],
            [
             0.1111111111111111,
             "#46039f"
            ],
            [
             0.2222222222222222,
             "#7201a8"
            ],
            [
             0.3333333333333333,
             "#9c179e"
            ],
            [
             0.4444444444444444,
             "#bd3786"
            ],
            [
             0.5555555555555556,
             "#d8576b"
            ],
            [
             0.6666666666666666,
             "#ed7953"
            ],
            [
             0.7777777777777778,
             "#fb9f3a"
            ],
            [
             0.8888888888888888,
             "#fdca26"
            ],
            [
             1,
             "#f0f921"
            ]
           ]
          },
          "colorway": [
           "#636efa",
           "#EF553B",
           "#00cc96",
           "#ab63fa",
           "#FFA15A",
           "#19d3f3",
           "#FF6692",
           "#B6E880",
           "#FF97FF",
           "#FECB52"
          ],
          "font": {
           "color": "#2a3f5f"
          },
          "geo": {
           "bgcolor": "white",
           "lakecolor": "white",
           "landcolor": "#E5ECF6",
           "showlakes": true,
           "showland": true,
           "subunitcolor": "white"
          },
          "hoverlabel": {
           "align": "left"
          },
          "hovermode": "closest",
          "mapbox": {
           "style": "light"
          },
          "paper_bgcolor": "white",
          "plot_bgcolor": "#E5ECF6",
          "polar": {
           "angularaxis": {
            "gridcolor": "white",
            "linecolor": "white",
            "ticks": ""
           },
           "bgcolor": "#E5ECF6",
           "radialaxis": {
            "gridcolor": "white",
            "linecolor": "white",
            "ticks": ""
           }
          },
          "scene": {
           "xaxis": {
            "backgroundcolor": "#E5ECF6",
            "gridcolor": "white",
            "gridwidth": 2,
            "linecolor": "white",
            "showbackground": true,
            "ticks": "",
            "zerolinecolor": "white"
           },
           "yaxis": {
            "backgroundcolor": "#E5ECF6",
            "gridcolor": "white",
            "gridwidth": 2,
            "linecolor": "white",
            "showbackground": true,
            "ticks": "",
            "zerolinecolor": "white"
           },
           "zaxis": {
            "backgroundcolor": "#E5ECF6",
            "gridcolor": "white",
            "gridwidth": 2,
            "linecolor": "white",
            "showbackground": true,
            "ticks": "",
            "zerolinecolor": "white"
           }
          },
          "shapedefaults": {
           "line": {
            "color": "#2a3f5f"
           }
          },
          "ternary": {
           "aaxis": {
            "gridcolor": "white",
            "linecolor": "white",
            "ticks": ""
           },
           "baxis": {
            "gridcolor": "white",
            "linecolor": "white",
            "ticks": ""
           },
           "bgcolor": "#E5ECF6",
           "caxis": {
            "gridcolor": "white",
            "linecolor": "white",
            "ticks": ""
           }
          },
          "title": {
           "x": 0.05
          },
          "xaxis": {
           "automargin": true,
           "gridcolor": "white",
           "linecolor": "white",
           "ticks": "",
           "title": {
            "standoff": 15
           },
           "zerolinecolor": "white",
           "zerolinewidth": 2
          },
          "yaxis": {
           "automargin": true,
           "gridcolor": "white",
           "linecolor": "white",
           "ticks": "",
           "title": {
            "standoff": 15
           },
           "zerolinecolor": "white",
           "zerolinewidth": 2
          }
         }
        },
        "xaxis": {
         "anchor": "y",
         "domain": [
          0,
          1
         ],
         "title": {
          "text": "x"
         }
        },
        "yaxis": {
         "anchor": "x",
         "domain": [
          0,
          1
         ],
         "title": {
          "text": "count"
         }
        }
       }
      }
     },
     "metadata": {},
     "output_type": "display_data"
    }
   ],
   "source": [
    "fig = px.histogram(returns, x=returns, nbins=k)\n",
    "fig.show()"
   ]
  },
  {
   "attachments": {},
   "cell_type": "markdown",
   "metadata": {},
   "source": [
    "<h2 style=\"text-align: center;\">Referencias</h2>"
   ]
  },
  {
   "attachments": {},
   "cell_type": "markdown",
   "metadata": {},
   "source": [
    "Lara, A. (2008). Medición y control de riesgos financieros. [versión electrónica]. Recuperado de https://es.scribd.com/doc/48773171/Medicion-y-Control-de-Riesgos-Financieros-LIBRO-DE-ALFONSO-DE-LARA-HARO\n",
    "\n",
    "\n",
    "Allen, F., Myers, S., y Brealey, R. (2015). Principios de finanzas corporativas. Haga clic para ver más opciones [archivo PDF]. Recuperado de https://www.u-cursos.cl/usuario/b8c892c6139f1d5b9af125a5c6dff4a6/mi_blog/r/Principios_de_Finanzas_Corporativas_9Ed__Myers.pdf"
   ]
  }
 ],
 "metadata": {
  "kernelspec": {
   "display_name": "EDA_101",
   "language": "python",
   "name": "python3"
  },
  "language_info": {
   "codemirror_mode": {
    "name": "ipython",
    "version": 3
   },
   "file_extension": ".py",
   "mimetype": "text/x-python",
   "name": "python",
   "nbconvert_exporter": "python",
   "pygments_lexer": "ipython3",
   "version": "3.10.9"
  },
  "orig_nbformat": 4
 },
 "nbformat": 4,
 "nbformat_minor": 2
}
